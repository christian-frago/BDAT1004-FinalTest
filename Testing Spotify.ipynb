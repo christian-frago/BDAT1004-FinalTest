{
 "cells": [
  {
   "cell_type": "code",
   "execution_count": 2,
   "id": "a71450cc-4d3c-42d5-81f6-ee1f0deac425",
   "metadata": {},
   "outputs": [],
   "source": [
    "import csv\n",
    "import os\n",
    "import re\n",
    "\n",
    "import spotipy\n",
    "from dotenv import load_dotenv\n",
    "from spotipy.oauth2 import SpotifyClientCredentials\n",
    "import time"
   ]
  },
  {
   "cell_type": "code",
   "execution_count": 3,
   "id": "e4fe2b99-0caa-4827-8ef6-9961a56f7224",
   "metadata": {},
   "outputs": [
    {
     "data": {
      "text/plain": [
       "True"
      ]
     },
     "execution_count": 3,
     "metadata": {},
     "output_type": "execute_result"
    }
   ],
   "source": [
    "# load credentials from .env file\n",
    "load_dotenv()"
   ]
  },
  {
   "cell_type": "code",
   "execution_count": 13,
   "id": "72f43003-2b1b-46fc-9d5f-331d14e0e314",
   "metadata": {},
   "outputs": [],
   "source": [
    "CLIENT_ID = os.getenv(\"CLIENT_ID\", \"\")\n",
    "CLIENT_SECRET = os.getenv(\"CLIENT_SECRET\", \"\")\n",
    "OUTPUT_FILE_NAME = \"track_info4.csv\""
   ]
  },
  {
   "cell_type": "code",
   "execution_count": 14,
   "id": "8bd63d32-205e-4f31-845f-ec8154e261d7",
   "metadata": {},
   "outputs": [],
   "source": [
    "# authenticate\n",
    "client_credentials_manager = SpotifyClientCredentials(\n",
    "    client_id=CLIENT_ID, client_secret=CLIENT_SECRET\n",
    ")"
   ]
  },
  {
   "cell_type": "code",
   "execution_count": 15,
   "id": "afb908d6-d2bd-4a31-a9e1-44ce1c99e309",
   "metadata": {},
   "outputs": [],
   "source": [
    "# create spotify session object\n",
    "session = spotipy.Spotify(client_credentials_manager=client_credentials_manager)"
   ]
  },
  {
   "cell_type": "code",
   "execution_count": 16,
   "id": "1ef48ff7-28b0-4e89-a520-d241a0419d91",
   "metadata": {},
   "outputs": [],
   "source": [
    "# playlist web address link\n",
    "PLAYLIST_LINK = \"https://open.spotify.com/playlist/37i9dQZEVXbMDoHDwVN2tF?si=2298ab0874234045\"\n",
    "\n",
    "if match := re.match(r\"https://open.spotify.com/playlist/(.*)\\?\", PLAYLIST_LINK):\n",
    "    playlist_uri = match.groups()[0]\n",
    "    time.sleep(86400)\n",
    "else:\n",
    "    raise ValueError(\"Expected format: https://open.spotify.com/playlist/...\")"
   ]
  },
  {
   "cell_type": "code",
   "execution_count": 17,
   "id": "0e9a9cea-d4f6-4fda-8ae2-d5ba4b93b6d5",
   "metadata": {},
   "outputs": [],
   "source": [
    "# get list of tracks in a given playlist (note: max playlist length 100)\n",
    "tracks = session.playlist_tracks(playlist_uri)[\"items\"]"
   ]
  },
  {
   "cell_type": "code",
   "execution_count": 18,
   "id": "2dc263f4-89e3-4f99-843a-65d02ec2b228",
   "metadata": {},
   "outputs": [],
   "source": [
    "def get_artists_genres(artist_uri):\n",
    "    artists = session.artist(artist_uri)\n",
    "    return artists[\"genres\"]"
   ]
  },
  {
   "cell_type": "code",
   "execution_count": 19,
   "id": "0b4f486d-9160-4323-8ec6-21b67970e4b1",
   "metadata": {},
   "outputs": [],
   "source": [
    "import datetime\n",
    "now_date = datetime.datetime.now()"
   ]
  },
  {
   "cell_type": "markdown",
   "id": "cddeb52c-e001-462f-bbae-d99c9d65e982",
   "metadata": {},
   "source": [
    "### The Code block Below will be excuted Daily as a daily part of the data extraction"
   ]
  },
  {
   "cell_type": "code",
   "execution_count": null,
   "id": "85eb49ed-1898-44ea-9ecc-3f0e3eaf6bab",
   "metadata": {},
   "outputs": [],
   "source": [
    "\n",
    "with open(OUTPUT_FILE_NAME, \"a\", encoding=\"utf-8\",newline='') as file:\n",
    "    writer = csv.writer(file)\n",
    "    \n",
    "    # write header column names\n",
    "    # extract name and artist\n",
    "    for track in tracks:\n",
    "        name = track[\"track\"][\"name\"]\n",
    "        track_number = track[\"track\"][\"track_number\"]\n",
    "        song_id = track[\"track\"][\"id\"]\n",
    "        popularity = track[\"track\"][\"popularity\"]\n",
    "        duration = track[\"track\"][\"duration_ms\"]\n",
    "        artists = \", \".join(\n",
    "            [artist[\"name\"] for artist in track[\"track\"][\"artists\"]]\n",
    "        )\n",
    "        added_time = track[\"added_at\"]\n",
    "        #genres = get_album_genre(track[\"track\"][\"album\"][\"uri\"])\n",
    "        \n",
    "        for artist in track[\"track\"][\"artists\"]:\n",
    "            genres = \", \".join(get_artists_genres(artist[\"uri\"]))\n",
    "            #genres = (\", \".join(genre))\n",
    "        \n",
    "        extracted_at = now_date\n",
    "      \n",
    "        # write to csv\n",
    "        writer.writerow([name, artists,track_number,song_id,added_time,popularity,duration,genres,extracted_at])"
   ]
  }
 ],
 "metadata": {
  "kernelspec": {
   "display_name": "Python 3.8.3 ('base')",
   "language": "python",
   "name": "python3"
  },
  "language_info": {
   "codemirror_mode": {
    "name": "ipython",
    "version": 3
   },
   "file_extension": ".py",
   "mimetype": "text/x-python",
   "name": "python",
   "nbconvert_exporter": "python",
   "pygments_lexer": "ipython3",
   "version": "3.8.3"
  },
  "vscode": {
   "interpreter": {
    "hash": "58192ce5aafecf41255ba1d13cf9f2085f0116a2bf164672a0a564b45acc5b3b"
   }
  }
 },
 "nbformat": 4,
 "nbformat_minor": 5
}
