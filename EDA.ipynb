{
 "cells": [
  {
   "cell_type": "code",
   "execution_count": 1,
   "id": "946f5f18-0c0b-4450-a419-32c84a7a57de",
   "metadata": {},
   "outputs": [],
   "source": [
    "import pandas as pd\n",
    "import numpy as np\n",
    "import matplotlib.pyplot as plt\n",
    "import seaborn as sns"
   ]
  },
  {
   "cell_type": "code",
   "execution_count": 3,
   "id": "4ab59c60-1233-4f7c-8df2-d455d9050be5",
   "metadata": {},
   "outputs": [],
   "source": [
    "df = pd.read_csv(\"track_info4.csv\");\n"
   ]
  },
  {
   "cell_type": "code",
   "execution_count": 5,
   "id": "01f67632-732e-42ec-9e68-b208178e3c64",
   "metadata": {},
   "outputs": [],
   "source": [
    "df['duration_min']= df['duration_ms'] / (1000*60)"
   ]
  },
  {
   "cell_type": "code",
   "execution_count": 6,
   "id": "358f2779-e7e6-453d-aeb6-2dc598d828a4",
   "metadata": {},
   "outputs": [
    {
     "data": {
      "text/html": [
       "<div>\n",
       "<style scoped>\n",
       "    .dataframe tbody tr th:only-of-type {\n",
       "        vertical-align: middle;\n",
       "    }\n",
       "\n",
       "    .dataframe tbody tr th {\n",
       "        vertical-align: top;\n",
       "    }\n",
       "\n",
       "    .dataframe thead th {\n",
       "        text-align: right;\n",
       "    }\n",
       "</style>\n",
       "<table border=\"1\" class=\"dataframe\">\n",
       "  <thead>\n",
       "    <tr style=\"text-align: right;\">\n",
       "      <th></th>\n",
       "      <th>track_name</th>\n",
       "      <th>artists</th>\n",
       "      <th>track_number</th>\n",
       "      <th>song_id</th>\n",
       "      <th>added_time</th>\n",
       "      <th>popularity</th>\n",
       "      <th>duration_ms</th>\n",
       "      <th>genres</th>\n",
       "      <th>extracted_at</th>\n",
       "      <th>duration_min</th>\n",
       "    </tr>\n",
       "  </thead>\n",
       "  <tbody>\n",
       "    <tr>\n",
       "      <th>0</th>\n",
       "      <td>Unholy (feat. Kim Petras)</td>\n",
       "      <td>Sam Smith, Kim Petras</td>\n",
       "      <td>1</td>\n",
       "      <td>3nqQXoyQOWXiESFLlDF1hG</td>\n",
       "      <td>2022-11-16T12:50:17Z</td>\n",
       "      <td>100</td>\n",
       "      <td>156943</td>\n",
       "      <td>dance pop, pop, post-teen pop, transpop</td>\n",
       "      <td>25:41.7</td>\n",
       "      <td>2.615717</td>\n",
       "    </tr>\n",
       "    <tr>\n",
       "      <th>1</th>\n",
       "      <td>Anti-Hero</td>\n",
       "      <td>Taylor Swift</td>\n",
       "      <td>3</td>\n",
       "      <td>0V3wPSX9ygBnCm8psDIegu</td>\n",
       "      <td>2022-11-16T12:50:17Z</td>\n",
       "      <td>97</td>\n",
       "      <td>200690</td>\n",
       "      <td>pop</td>\n",
       "      <td>25:41.7</td>\n",
       "      <td>3.344833</td>\n",
       "    </tr>\n",
       "    <tr>\n",
       "      <th>2</th>\n",
       "      <td>Rich Flex</td>\n",
       "      <td>Drake, 21 Savage</td>\n",
       "      <td>1</td>\n",
       "      <td>1bDbXMyjaUIooNwFE9wn0N</td>\n",
       "      <td>2022-11-16T12:50:17Z</td>\n",
       "      <td>92</td>\n",
       "      <td>239359</td>\n",
       "      <td>atl hip hop, rap</td>\n",
       "      <td>25:41.7</td>\n",
       "      <td>3.989317</td>\n",
       "    </tr>\n",
       "    <tr>\n",
       "      <th>3</th>\n",
       "      <td>La Bachata</td>\n",
       "      <td>Manuel Turizo</td>\n",
       "      <td>1</td>\n",
       "      <td>5ww2BF9slyYgNOk37BlC4u</td>\n",
       "      <td>2022-11-16T12:50:17Z</td>\n",
       "      <td>97</td>\n",
       "      <td>162637</td>\n",
       "      <td>colombian pop, latin pop, reggaeton, reggaeton...</td>\n",
       "      <td>25:41.7</td>\n",
       "      <td>2.710617</td>\n",
       "    </tr>\n",
       "    <tr>\n",
       "      <th>4</th>\n",
       "      <td>I'm Good (Blue)</td>\n",
       "      <td>David Guetta, Bebe Rexha</td>\n",
       "      <td>1</td>\n",
       "      <td>4uUG5RXrOk84mYEfFvj3cK</td>\n",
       "      <td>2022-11-16T12:50:17Z</td>\n",
       "      <td>97</td>\n",
       "      <td>175238</td>\n",
       "      <td>dance pop, edm, pop, post-teen pop</td>\n",
       "      <td>25:41.7</td>\n",
       "      <td>2.920633</td>\n",
       "    </tr>\n",
       "    <tr>\n",
       "      <th>...</th>\n",
       "      <td>...</td>\n",
       "      <td>...</td>\n",
       "      <td>...</td>\n",
       "      <td>...</td>\n",
       "      <td>...</td>\n",
       "      <td>...</td>\n",
       "      <td>...</td>\n",
       "      <td>...</td>\n",
       "      <td>...</td>\n",
       "      <td>...</td>\n",
       "    </tr>\n",
       "    <tr>\n",
       "      <th>495</th>\n",
       "      <td>Die For You</td>\n",
       "      <td>Joji</td>\n",
       "      <td>3</td>\n",
       "      <td>26hOm7dTtBi0TdpDGl141t</td>\n",
       "      <td>2022-11-25T11:47:10Z</td>\n",
       "      <td>89</td>\n",
       "      <td>211666</td>\n",
       "      <td>viral pop</td>\n",
       "      <td>16:47.7</td>\n",
       "      <td>3.527767</td>\n",
       "    </tr>\n",
       "    <tr>\n",
       "      <th>496</th>\n",
       "      <td>Just Wanna Rock</td>\n",
       "      <td>Lil Uzi Vert</td>\n",
       "      <td>1</td>\n",
       "      <td>4FyesJzVpA39hbYvcseO2d</td>\n",
       "      <td>2022-11-25T11:47:10Z</td>\n",
       "      <td>88</td>\n",
       "      <td>123890</td>\n",
       "      <td>melodic rap, philly rap, rap, trap</td>\n",
       "      <td>16:47.7</td>\n",
       "      <td>2.064833</td>\n",
       "    </tr>\n",
       "    <tr>\n",
       "      <th>497</th>\n",
       "      <td>Maroon</td>\n",
       "      <td>Taylor Swift</td>\n",
       "      <td>2</td>\n",
       "      <td>3eX0NZfLtGzoLUxPNvRfqm</td>\n",
       "      <td>2022-11-25T11:47:10Z</td>\n",
       "      <td>89</td>\n",
       "      <td>218270</td>\n",
       "      <td>pop</td>\n",
       "      <td>16:47.7</td>\n",
       "      <td>3.637833</td>\n",
       "    </tr>\n",
       "    <tr>\n",
       "      <th>498</th>\n",
       "      <td>Snow On The Beach (feat. Lana Del Rey)</td>\n",
       "      <td>Taylor Swift, Lana Del Rey</td>\n",
       "      <td>4</td>\n",
       "      <td>1wtOxkiel43cVs0Yux5Q4h</td>\n",
       "      <td>2022-11-25T11:47:10Z</td>\n",
       "      <td>90</td>\n",
       "      <td>256124</td>\n",
       "      <td>art pop, pop</td>\n",
       "      <td>16:47.7</td>\n",
       "      <td>4.268733</td>\n",
       "    </tr>\n",
       "    <tr>\n",
       "      <th>499</th>\n",
       "      <td>Neverita</td>\n",
       "      <td>Bad Bunny</td>\n",
       "      <td>8</td>\n",
       "      <td>31i56LZnwE6uSu3exoHjtB</td>\n",
       "      <td>2022-11-25T11:47:10Z</td>\n",
       "      <td>91</td>\n",
       "      <td>173119</td>\n",
       "      <td>reggaeton, trap latino</td>\n",
       "      <td>16:47.7</td>\n",
       "      <td>2.885317</td>\n",
       "    </tr>\n",
       "  </tbody>\n",
       "</table>\n",
       "<p>500 rows × 10 columns</p>\n",
       "</div>"
      ],
      "text/plain": [
       "                                 track_name                     artists  \\\n",
       "0                 Unholy (feat. Kim Petras)       Sam Smith, Kim Petras   \n",
       "1                                 Anti-Hero                Taylor Swift   \n",
       "2                                 Rich Flex            Drake, 21 Savage   \n",
       "3                                La Bachata               Manuel Turizo   \n",
       "4                           I'm Good (Blue)    David Guetta, Bebe Rexha   \n",
       "..                                      ...                         ...   \n",
       "495                             Die For You                        Joji   \n",
       "496                         Just Wanna Rock                Lil Uzi Vert   \n",
       "497                                  Maroon                Taylor Swift   \n",
       "498  Snow On The Beach (feat. Lana Del Rey)  Taylor Swift, Lana Del Rey   \n",
       "499                                Neverita                   Bad Bunny   \n",
       "\n",
       "     track_number                 song_id            added_time  popularity  \\\n",
       "0               1  3nqQXoyQOWXiESFLlDF1hG  2022-11-16T12:50:17Z         100   \n",
       "1               3  0V3wPSX9ygBnCm8psDIegu  2022-11-16T12:50:17Z          97   \n",
       "2               1  1bDbXMyjaUIooNwFE9wn0N  2022-11-16T12:50:17Z          92   \n",
       "3               1  5ww2BF9slyYgNOk37BlC4u  2022-11-16T12:50:17Z          97   \n",
       "4               1  4uUG5RXrOk84mYEfFvj3cK  2022-11-16T12:50:17Z          97   \n",
       "..            ...                     ...                   ...         ...   \n",
       "495             3  26hOm7dTtBi0TdpDGl141t  2022-11-25T11:47:10Z          89   \n",
       "496             1  4FyesJzVpA39hbYvcseO2d  2022-11-25T11:47:10Z          88   \n",
       "497             2  3eX0NZfLtGzoLUxPNvRfqm  2022-11-25T11:47:10Z          89   \n",
       "498             4  1wtOxkiel43cVs0Yux5Q4h  2022-11-25T11:47:10Z          90   \n",
       "499             8  31i56LZnwE6uSu3exoHjtB  2022-11-25T11:47:10Z          91   \n",
       "\n",
       "     duration_ms                                             genres  \\\n",
       "0         156943            dance pop, pop, post-teen pop, transpop   \n",
       "1         200690                                                pop   \n",
       "2         239359                                   atl hip hop, rap   \n",
       "3         162637  colombian pop, latin pop, reggaeton, reggaeton...   \n",
       "4         175238                 dance pop, edm, pop, post-teen pop   \n",
       "..           ...                                                ...   \n",
       "495       211666                                          viral pop   \n",
       "496       123890                 melodic rap, philly rap, rap, trap   \n",
       "497       218270                                                pop   \n",
       "498       256124                                       art pop, pop   \n",
       "499       173119                             reggaeton, trap latino   \n",
       "\n",
       "    extracted_at  duration_min  \n",
       "0        25:41.7      2.615717  \n",
       "1        25:41.7      3.344833  \n",
       "2        25:41.7      3.989317  \n",
       "3        25:41.7      2.710617  \n",
       "4        25:41.7      2.920633  \n",
       "..           ...           ...  \n",
       "495      16:47.7      3.527767  \n",
       "496      16:47.7      2.064833  \n",
       "497      16:47.7      3.637833  \n",
       "498      16:47.7      4.268733  \n",
       "499      16:47.7      2.885317  \n",
       "\n",
       "[500 rows x 10 columns]"
      ]
     },
     "execution_count": 6,
     "metadata": {},
     "output_type": "execute_result"
    }
   ],
   "source": [
    "df"
   ]
  },
  {
   "cell_type": "code",
   "execution_count": 8,
   "id": "23e6fb35-32c9-4b33-b7e3-e5731dedbebe",
   "metadata": {},
   "outputs": [
    {
     "data": {
      "text/plain": [
       "count    500.000000\n",
       "mean       3.318763\n",
       "std        0.614615\n",
       "min        2.064833\n",
       "25%        2.828358\n",
       "50%        3.315617\n",
       "75%        3.890933\n",
       "max        4.382667\n",
       "Name: duration_min, dtype: float64"
      ]
     },
     "execution_count": 8,
     "metadata": {},
     "output_type": "execute_result"
    }
   ],
   "source": [
    "df['duration_min'].describe()"
   ]
  },
  {
   "cell_type": "code",
   "execution_count": 9,
   "id": "3fdab794-fc2e-4517-9e6d-647937379494",
   "metadata": {},
   "outputs": [
    {
     "data": {
      "text/plain": [
       "DescribeResult(nobs=500, minmax=(123890, 262960), mean=199125.784, variance=1359905278.4662766, skewness=-0.057030790037502166, kurtosis=-1.0208375793250548)"
      ]
     },
     "execution_count": 9,
     "metadata": {},
     "output_type": "execute_result"
    }
   ],
   "source": [
    "from scipy import stats \n",
    "\n",
    "\n",
    "stats.describe(df['duration_ms'])"
   ]
  },
  {
   "cell_type": "code",
   "execution_count": 10,
   "id": "6dd13fdb-56e2-4743-8349-21700eabb0e8",
   "metadata": {},
   "outputs": [
    {
     "data": {
      "text/plain": [
       "<AxesSubplot:xlabel='track_number', ylabel='Count'>"
      ]
     },
     "execution_count": 10,
     "metadata": {},
     "output_type": "execute_result"
    },
    {
     "data": {
      "image/png": "[encoded data removed]",
      "text/plain": [
       "<Figure size 432x288 with 1 Axes>"
      ]
     },
     "metadata": {
      "needs_background": "light"
     },
     "output_type": "display_data"
    }
   ],
   "source": [
    "sns.histplot(df['track_number'])"
   ]
  },
  {
   "cell_type": "code",
   "execution_count": 13,
   "id": "79e2a0ff-8253-4c57-a422-68b84273842b",
   "metadata": {},
   "outputs": [
    {
     "data": {
      "text/plain": [
       "<AxesSubplot:xlabel='popularity', ylabel='duration_min'>"
      ]
     },
     "execution_count": 13,
     "metadata": {},
     "output_type": "execute_result"
    },
    {
     "data": {
      "image/png": "[encoded data removed]",
      "text/plain": [
       "<Figure size 432x288 with 1 Axes>"
      ]
     },
     "metadata": {
      "needs_background": "light"
     },
     "output_type": "display_data"
    }
   ],
   "source": [
    "sns.scatterplot(x=df['popularity'],y=df['duration_min'])"
   ]
  }
 ],
 "metadata": {
  "kernelspec": {
   "display_name": "Python 3 (ipykernel)",
   "language": "python",
   "name": "python3"
  },
  "language_info": {
   "codemirror_mode": {
    "name": "ipython",
    "version": 3
   },
   "file_extension": ".py",
   "mimetype": "text/x-python",
   "name": "python",
   "nbconvert_exporter": "python",
   "pygments_lexer": "ipython3",
   "version": "3.8.3"
  }
 },
 "nbformat": 4,
 "nbformat_minor": 5
}
